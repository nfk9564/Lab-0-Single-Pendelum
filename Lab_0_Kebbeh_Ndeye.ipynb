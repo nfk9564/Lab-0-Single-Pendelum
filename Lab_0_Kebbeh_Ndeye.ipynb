{
  "nbformat": 4,
  "nbformat_minor": 0,
  "metadata": {
    "colab": {
      "provenance": [],
      "authorship_tag": "ABX9TyP8PAHkAu7LhWDwyZQLcik8",
      "include_colab_link": true
    },
    "kernelspec": {
      "name": "python3",
      "display_name": "Python 3"
    },
    "language_info": {
      "name": "python"
    }
  },
  "cells": [
    {
      "cell_type": "markdown",
      "metadata": {
        "id": "view-in-github",
        "colab_type": "text"
      },
      "source": [
        "<a href=\"https://colab.research.google.com/github/nfk9564/Lab-0-Single-Pendelum/blob/main/Lab_0_Kebbeh_Ndeye.ipynb\" target=\"_parent\"><img src=\"https://colab.research.google.com/assets/colab-badge.svg\" alt=\"Open In Colab\"/></a>"
      ]
    },
    {
      "cell_type": "code",
      "execution_count": 2,
      "metadata": {
        "id": "o5eK_w0k5c3T"
      },
      "outputs": [],
      "source": [
        "import csv\n",
        "import numpy as np\n",
        "import matplotlib.pyplot as plt"
      ]
    },
    {
      "cell_type": "code",
      "source": [
        "import csv\n",
        "pressure = []\n",
        "temperature = []\n",
        "pressure_error = []\n",
        "terror = []\n",
        "\n",
        "with open('SampleData.csv', newline='') as csvfile:\n",
        "    reader = csv.DictReader(csvfile)\n",
        "    for row in reader:\n",
        "        temperature.append(float(row['Temperature (C)']))\n",
        "        pressure.append(float(row['Pressure (lb/in^2)']))\n",
        "        pressure_error.append(float(row['Estimated incertainty in pressure (lb/in^2)']))\n",
        "        terror.append(float(row['Terror']))"
      ],
      "metadata": {
        "colab": {
          "base_uri": "https://localhost:8080/",
          "height": 251
        },
        "id": "F0-6DVjG5qNF",
        "outputId": "4049fd8d-0a81-404f-e16c-cb96117246b9"
      },
      "execution_count": 7,
      "outputs": [
        {
          "output_type": "error",
          "ename": "FileNotFoundError",
          "evalue": "[Errno 2] No such file or directory: 'SampleData.csv'",
          "traceback": [
            "\u001b[0;31m---------------------------------------------------------------------------\u001b[0m",
            "\u001b[0;31mFileNotFoundError\u001b[0m                         Traceback (most recent call last)",
            "\u001b[0;32m<ipython-input-7-c3da28d459a4>\u001b[0m in \u001b[0;36m<cell line: 7>\u001b[0;34m()\u001b[0m\n\u001b[1;32m      5\u001b[0m \u001b[0mterror\u001b[0m \u001b[0;34m=\u001b[0m \u001b[0;34m[\u001b[0m\u001b[0;34m]\u001b[0m\u001b[0;34m\u001b[0m\u001b[0;34m\u001b[0m\u001b[0m\n\u001b[1;32m      6\u001b[0m \u001b[0;34m\u001b[0m\u001b[0m\n\u001b[0;32m----> 7\u001b[0;31m \u001b[0;32mwith\u001b[0m \u001b[0mopen\u001b[0m\u001b[0;34m(\u001b[0m\u001b[0;34m'SampleData.csv'\u001b[0m\u001b[0;34m,\u001b[0m \u001b[0mnewline\u001b[0m\u001b[0;34m=\u001b[0m\u001b[0;34m''\u001b[0m\u001b[0;34m)\u001b[0m \u001b[0;32mas\u001b[0m \u001b[0mcsvfile\u001b[0m\u001b[0;34m:\u001b[0m\u001b[0;34m\u001b[0m\u001b[0;34m\u001b[0m\u001b[0m\n\u001b[0m\u001b[1;32m      8\u001b[0m     \u001b[0mreader\u001b[0m \u001b[0;34m=\u001b[0m \u001b[0mcsv\u001b[0m\u001b[0;34m.\u001b[0m\u001b[0mDictReader\u001b[0m\u001b[0;34m(\u001b[0m\u001b[0mcsvfile\u001b[0m\u001b[0;34m)\u001b[0m\u001b[0;34m\u001b[0m\u001b[0;34m\u001b[0m\u001b[0m\n\u001b[1;32m      9\u001b[0m     \u001b[0;32mfor\u001b[0m \u001b[0mrow\u001b[0m \u001b[0;32min\u001b[0m \u001b[0mreader\u001b[0m\u001b[0;34m:\u001b[0m\u001b[0;34m\u001b[0m\u001b[0;34m\u001b[0m\u001b[0m\n",
            "\u001b[0;31mFileNotFoundError\u001b[0m: [Errno 2] No such file or directory: 'SampleData.csv'"
          ]
        }
      ]
    },
    {
      "cell_type": "markdown",
      "source": [
        "# New Section"
      ],
      "metadata": {
        "id": "cq4BcfRfIe87"
      }
    },
    {
      "cell_type": "code",
      "source": [
        "temperature = np.array(temperature)\n",
        "pressure = np.array(pressure)\n",
        "pressure_error = np.array(pressure_error)\n",
        "\n",
        "plt.errorbar(pressure, temperature, yerr=pressure_error, fmt='o', capsize=3, label='Data Points')\n",
        "plt.xlabel('Pressure (lb/in^2)')\n",
        "plt.ylabel('Temperature (Temperature (C))')\n",
        "plt.title('Temperature vs Pressure')\n",
        "plt.grid()\n",
        "plt.legend()\n",
        "plt.show()"
      ],
      "metadata": {
        "id": "8tbJCuuh6GgZ"
      },
      "execution_count": null,
      "outputs": []
    },
    {
      "cell_type": "code",
      "source": [
        "#2 Linear least-squares fit\n",
        "\n",
        "N = len(pressure)\n",
        "\n",
        "sum_x = 0\n",
        "sum_y = 0\n",
        "sum_x2 = 0\n",
        "sum_xy = 0\n",
        "\n",
        "for i in range(N):\n",
        "    sum_x += pressure[i]\n",
        "    sum_y += temperature[i]\n",
        "    sum_x2 += pressure[i] ** 2\n",
        "    sum_xy += pressure[i] * temperature[i]\n",
        "\n",
        "m = (N * sum_xy - sum_x * sum_y) / (N * sum_x2 - sum_x ** 2)\n",
        "b= (sum_y - m * sum_x) / N\n",
        "\n",
        "fit_line = m * pressure + b\n",
        "\n",
        "plt.errorbar(pressure, temperature, yerr=pressure_error, fmt='o', capsize=3, label='Data')\n",
        "plt.plot(pressure, fit_line, 'r-', label='Least Squares Fit')\n",
        "plt.xlabel('Pressure (lb/in²)')\n",
        "plt.ylabel('Temperature (°C)')\n",
        "plt.title('Linear Least Squares Fit')\n",
        "plt.legend()\n",
        "plt.grid()\n",
        "plt.show()\n",
        "\n",
        "\n",
        "print(f'Slope (no errors): {m}, Intercept (no errors): {b}')\n"
      ],
      "metadata": {
        "id": "eLCVH2UZyVVy"
      },
      "execution_count": null,
      "outputs": []
    },
    {
      "cell_type": "code",
      "source": [
        "#3 Chi-Squared Fit\n",
        "\n",
        "chi_squared = 0\n",
        "\n",
        "fit_line = m * pressure + b\n",
        "\n",
        "for i in range(N):\n",
        "    chi_squared += ((temperature[i] - fit_line[i]) / pressure_error[i]) ** 2\n",
        "\n",
        "plt.errorbar(pressure, temperature, yerr=pressure_error, fmt='o', capsize=3, label='Data')\n",
        "plt.plot(pressure, fit_line, 'g--', label='Chi-Squared Fit')\n",
        "plt.xlabel('Pressure (lb/in²)')\n",
        "plt.ylabel('Temperature (°C)')\n",
        "plt.title('Chi-Squared Linear Fit')\n",
        "plt.legend()\n",
        "plt.grid()\n",
        "plt.show()\n",
        "\n",
        "print(f'Chi-Squared: {chi_squared}')"
      ],
      "metadata": {
        "id": "4YoLlOn4yagA"
      },
      "execution_count": null,
      "outputs": []
    },
    {
      "cell_type": "code",
      "source": [
        "#Coupled Pendulums\n",
        "\n",
        "A = 0.1\n",
        "omega1 = 2 * np.pi / 5.0  #angular frequency 1\n",
        "omega2 = 2 * np.pi / 5.2  #angular frequency 2\n",
        "t = np.linspace(0, 20, 1000)  #time from 0 to 20 seconds\n",
        "\n",
        "theta_a = A * np.cos(omega1 * t) + A * np.cos(omega2 * t)\n",
        "theta_b = A * np.cos(omega1 * t) + A * np.cos(omega2 * t)\n",
        "\n",
        "plt.figure(figsize=(12, 6))\n",
        "plt.subplot(2, 1, 1)\n",
        "plt.plot(t, theta_a, label='θa(t)')\n",
        "plt.title('Pendulum A Motion')\n",
        "plt.xlabel('Time (s)')\n",
        "plt.ylabel('Angle (rad)')\n",
        "plt.grid()\n",
        "plt.legend()\n",
        "\n",
        "plt.subplot(2, 1, 2)\n",
        "plt.plot(t, theta_b, label='θb(t)')\n",
        "plt.title('Pendulum B Motion')\n",
        "plt.xlabel('Time (s)')\n",
        "plt.ylabel('Angle (rad)')\n",
        "plt.grid()\n",
        "plt.legend()\n",
        "\n",
        "plt.tight_layout()\n",
        "plt.show()"
      ],
      "metadata": {
        "id": "8ml0RZvDykTm"
      },
      "execution_count": null,
      "outputs": []
    }
  ]
}